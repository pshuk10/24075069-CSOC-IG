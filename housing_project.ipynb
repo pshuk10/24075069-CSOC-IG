{
 "cells": [
  {
   "cell_type": "code",
   "execution_count": 1,
   "id": "e652f226",
   "metadata": {},
   "outputs": [
    {
     "data": {
      "text/html": [
       "<div>\n",
       "<style scoped>\n",
       "    .dataframe tbody tr th:only-of-type {\n",
       "        vertical-align: middle;\n",
       "    }\n",
       "\n",
       "    .dataframe tbody tr th {\n",
       "        vertical-align: top;\n",
       "    }\n",
       "\n",
       "    .dataframe thead th {\n",
       "        text-align: right;\n",
       "    }\n",
       "</style>\n",
       "<table border=\"1\" class=\"dataframe\">\n",
       "  <thead>\n",
       "    <tr style=\"text-align: right;\">\n",
       "      <th></th>\n",
       "      <th>Unnamed: 0</th>\n",
       "      <th>longitude</th>\n",
       "      <th>latitude</th>\n",
       "      <th>housing_median_age</th>\n",
       "      <th>total_rooms</th>\n",
       "      <th>population</th>\n",
       "      <th>households</th>\n",
       "      <th>median_income</th>\n",
       "      <th>median_house_value</th>\n",
       "      <th>&lt;1h ocean</th>\n",
       "      <th>inland</th>\n",
       "      <th>near bay</th>\n",
       "      <th>near ocean</th>\n",
       "    </tr>\n",
       "  </thead>\n",
       "  <tbody>\n",
       "    <tr>\n",
       "      <th>0</th>\n",
       "      <td>2</td>\n",
       "      <td>-122.24</td>\n",
       "      <td>37.85</td>\n",
       "      <td>52.0</td>\n",
       "      <td>1467.0</td>\n",
       "      <td>496.0</td>\n",
       "      <td>177.0</td>\n",
       "      <td>7.2574</td>\n",
       "      <td>352100.0</td>\n",
       "      <td>0.0</td>\n",
       "      <td>0.0</td>\n",
       "      <td>1.0</td>\n",
       "      <td>0.0</td>\n",
       "    </tr>\n",
       "    <tr>\n",
       "      <th>1</th>\n",
       "      <td>3</td>\n",
       "      <td>-122.25</td>\n",
       "      <td>37.85</td>\n",
       "      <td>52.0</td>\n",
       "      <td>1274.0</td>\n",
       "      <td>558.0</td>\n",
       "      <td>219.0</td>\n",
       "      <td>5.6431</td>\n",
       "      <td>341300.0</td>\n",
       "      <td>0.0</td>\n",
       "      <td>0.0</td>\n",
       "      <td>1.0</td>\n",
       "      <td>0.0</td>\n",
       "    </tr>\n",
       "    <tr>\n",
       "      <th>2</th>\n",
       "      <td>4</td>\n",
       "      <td>-122.25</td>\n",
       "      <td>37.85</td>\n",
       "      <td>52.0</td>\n",
       "      <td>1627.0</td>\n",
       "      <td>565.0</td>\n",
       "      <td>259.0</td>\n",
       "      <td>3.8462</td>\n",
       "      <td>342200.0</td>\n",
       "      <td>0.0</td>\n",
       "      <td>0.0</td>\n",
       "      <td>1.0</td>\n",
       "      <td>0.0</td>\n",
       "    </tr>\n",
       "    <tr>\n",
       "      <th>3</th>\n",
       "      <td>5</td>\n",
       "      <td>-122.25</td>\n",
       "      <td>37.85</td>\n",
       "      <td>52.0</td>\n",
       "      <td>919.0</td>\n",
       "      <td>413.0</td>\n",
       "      <td>193.0</td>\n",
       "      <td>4.0368</td>\n",
       "      <td>269700.0</td>\n",
       "      <td>0.0</td>\n",
       "      <td>0.0</td>\n",
       "      <td>1.0</td>\n",
       "      <td>0.0</td>\n",
       "    </tr>\n",
       "    <tr>\n",
       "      <th>4</th>\n",
       "      <td>6</td>\n",
       "      <td>-122.25</td>\n",
       "      <td>37.84</td>\n",
       "      <td>52.0</td>\n",
       "      <td>2535.0</td>\n",
       "      <td>1094.0</td>\n",
       "      <td>514.0</td>\n",
       "      <td>3.6591</td>\n",
       "      <td>299200.0</td>\n",
       "      <td>0.0</td>\n",
       "      <td>0.0</td>\n",
       "      <td>1.0</td>\n",
       "      <td>0.0</td>\n",
       "    </tr>\n",
       "  </tbody>\n",
       "</table>\n",
       "</div>"
      ],
      "text/plain": [
       "   Unnamed: 0  longitude  latitude  housing_median_age  total_rooms  \\\n",
       "0           2    -122.24     37.85                52.0       1467.0   \n",
       "1           3    -122.25     37.85                52.0       1274.0   \n",
       "2           4    -122.25     37.85                52.0       1627.0   \n",
       "3           5    -122.25     37.85                52.0        919.0   \n",
       "4           6    -122.25     37.84                52.0       2535.0   \n",
       "\n",
       "   population  households  median_income  median_house_value  <1h ocean  \\\n",
       "0       496.0       177.0         7.2574            352100.0        0.0   \n",
       "1       558.0       219.0         5.6431            341300.0        0.0   \n",
       "2       565.0       259.0         3.8462            342200.0        0.0   \n",
       "3       413.0       193.0         4.0368            269700.0        0.0   \n",
       "4      1094.0       514.0         3.6591            299200.0        0.0   \n",
       "\n",
       "   inland  near bay  near ocean  \n",
       "0     0.0       1.0         0.0  \n",
       "1     0.0       1.0         0.0  \n",
       "2     0.0       1.0         0.0  \n",
       "3     0.0       1.0         0.0  \n",
       "4     0.0       1.0         0.0  "
      ]
     },
     "execution_count": 1,
     "metadata": {},
     "output_type": "execute_result"
    }
   ],
   "source": [
    "#from preprocessing using all the code necessary for this\n",
    "import numpy as np\n",
    "import matplotlib.pyplot as plt\n",
    "import seaborn as sns\n",
    "import pandas as pd\n",
    "import copy\n",
    "import time\n",
    "import math\n",
    "from sklearn.preprocessing import OneHotEncoder, StandardScaler\n",
    "from sklearn.model_selection import train_test_split\n",
    "\n",
    "df = pd.read_csv('final_data.csv')\n",
    "\n",
    "df.head()"
   ]
  },
  {
   "cell_type": "code",
   "execution_count": 2,
   "id": "8baf160b",
   "metadata": {},
   "outputs": [],
   "source": [
    "X = df.drop(columns=['median_house_value'],axis=1)\n",
    "X.drop('Unnamed: 0',axis=1,inplace=True)\n",
    "y = df['median_house_value']"
   ]
  },
  {
   "cell_type": "code",
   "execution_count": 3,
   "id": "0c4a4d23",
   "metadata": {},
   "outputs": [
    {
     "name": "stdout",
     "output_type": "stream",
     "text": [
      "(13424, 11) (3356, 11) (13424,) (3356,)\n"
     ]
    }
   ],
   "source": [
    "scaler = StandardScaler()\n",
    "X_tr, X_te, y_tr, y_te = train_test_split(\n",
    "    X, y, test_size=0.2, random_state=42\n",
    ")\n",
    "X_train_np= scaler.fit_transform(X_tr)\n",
    "X_test_np = scaler.transform(X_te)\n",
    "print(X_train_np.shape, X_test_np.shape, y_tr.shape, y_te.shape)\n",
    "# print(y_tr.info())\n",
    "# print(X_train_np[0])\n",
    "\n",
    "y_train=y_tr.to_list()\n",
    "y_test=y_te.to_list()\n",
    "X_train=X_train_np.tolist()\n",
    "X_test=X_test_np.tolist()\n",
    "# print(y_tr)\n"
   ]
  },
  {
   "cell_type": "markdown",
   "id": "fa598192",
   "metadata": {},
   "source": [
    "## Pure Python Implementation ##"
   ]
  },
  {
   "cell_type": "code",
   "execution_count": 4,
   "id": "c8509f41",
   "metadata": {},
   "outputs": [],
   "source": [
    "def cost_per_eg(x, w, b): \n",
    "\n",
    "    n = len(x) #no. of features\n",
    "    #here x is a particular eg hence an array of length n\n",
    "    p = 0\n",
    "    for i in range(n):\n",
    "        p += x[i]*w[i]        \n",
    "    p += b                \n",
    "    return p"
   ]
  },
  {
   "cell_type": "code",
   "execution_count": 5,
   "id": "c0d47741",
   "metadata": {},
   "outputs": [],
   "source": [
    "def cost(X,y,w,b,cost_per_eg):\n",
    "    m = len(X)\n",
    "    cost = 0.0\n",
    "\n",
    "    for i in range(m):\n",
    "        cost+=(cost_per_eg(X[i],w,b)-y[i])**2\n",
    "    cost/=(2*m)\n",
    "    return cost"
   ]
  },
  {
   "cell_type": "code",
   "execution_count": 6,
   "id": "2ead80e1",
   "metadata": {},
   "outputs": [],
   "source": [
    "def give_gradient(X, y, w, b,cost_per_eg): \n",
    "  \n",
    "    m,n = len(X),len(X[0])\n",
    "    #m=number of examples, n=number of features\n",
    "    dj_dw = [0.0]*n\n",
    "    dj_db = 0.0\n",
    "\n",
    "    for i in range(m):                             \n",
    "        err = cost_per_eg(X[i],w,b) - y[i]   \n",
    "        for j in range(n):                         \n",
    "            dj_dw[j] += err * X[i][j]/m   \n",
    "        dj_db += err/m                                                       \n",
    "        \n",
    "    return dj_dw,dj_db"
   ]
  },
  {
   "cell_type": "code",
   "execution_count": 7,
   "id": "2e22509f",
   "metadata": {},
   "outputs": [],
   "source": [
    "def gradient_descent(X, y, w_in, b_in, cost, give_gradient,cost_per_eg, alpha, iterations):\n",
    "    \n",
    "    J_prev = []\n",
    "    m,n = len(X), len(X[0])\n",
    "    w = w_in\n",
    "    b = b_in\n",
    "    for i in range(iterations):\n",
    "        # print(0)\n",
    "        dj_dw,dj_db = give_gradient(X, y, w, b,cost_per_eg)\n",
    "\n",
    "        b -= alpha * dj_db               \n",
    "        for j in range(n):\n",
    "            w[j] -= alpha*dj_dw[j]\n",
    "        # print(1)\n",
    "        J_prev.append(cost(X, y, w, b,cost_per_eg))\n",
    "\n",
    "        # Print cost every at intervals 10 times or as many iterations if < 10\n",
    "        # print(\"inside loop\")\n",
    "        # print(2)\n",
    "        if i%1000 == 0:\n",
    "            print(f\"Iteration {i:4d}: Cost {J_prev[-1]:8.2f}   \")\n",
    "            # print(f\"Iteration {i:4d}: dj_dw {dj_dw}, dj_db {dj_db}\")\n",
    "            # print(w)\n",
    "            # print(b)\n",
    "        \n",
    "        # print(\"inside loop\")\n",
    "        # print(3)\n",
    "    return w, b, J_prev #return final w,b and J history for graphing"
   ]
  },
  {
   "cell_type": "code",
   "execution_count": 8,
   "id": "c68591f0",
   "metadata": {},
   "outputs": [],
   "source": [
    "# Mean Absolute Error (MAE)\n",
    "# Root Mean Squared Error (RMSE)\n",
    "# R-squared (R2 Score)\n",
    "def mean_absolute_error(y_pred,y_true):\n",
    "    m = len(y_pred)\n",
    "    mae = 0\n",
    "    for i in range(m):\n",
    "        mae += abs(y_true[i] - y_pred[i])/m\n",
    "    return mae\n",
    "\n",
    "def root_mean_square(y_pred, y_true):\n",
    "    m = len(y_pred)\n",
    "    rms = 0\n",
    "\n",
    "    for i in range(m):\n",
    "        rms += ((y_true[i] - y_pred[i])**2)/m\n",
    "    \n",
    "    return math.sqrt(rms)\n",
    "\n",
    "def r_squared(y_pred, y_true):\n",
    "    num = 0\n",
    "    den = 0\n",
    "    m = len(y_pred)\n",
    "    mean_true = sum(y_true)/m\n",
    "    for i in range(m):\n",
    "        num += (y_pred[i] - y_true[i])**2\n",
    "        den += (y_true[i] - mean_true)**2\n",
    "    \n",
    "    r_sq = 1 - num/den\n",
    "    return r_sq\n",
    "\n",
    "def predict_y(X_test, w, b):\n",
    "    y_pred = [0]*(len(X_test))\n",
    "\n",
    "    for i in range(len(X_test)):\n",
    "        y_pred[i] = cost_per_eg(X_test[i],w,b)\n",
    "\n",
    "    return y_pred"
   ]
  },
  {
   "cell_type": "code",
   "execution_count": 9,
   "id": "634fd2ee",
   "metadata": {},
   "outputs": [
    {
     "name": "stdout",
     "output_type": "stream",
     "text": [
      "Iteration    0: Cost 4142613529.69   \n"
     ]
    },
    {
     "ename": "KeyboardInterrupt",
     "evalue": "",
     "output_type": "error",
     "traceback": [
      "\u001b[31m---------------------------------------------------------------------------\u001b[39m",
      "\u001b[31mKeyboardInterrupt\u001b[39m                         Traceback (most recent call last)",
      "\u001b[36mCell\u001b[39m\u001b[36m \u001b[39m\u001b[32mIn[9]\u001b[39m\u001b[32m, line 10\u001b[39m\n\u001b[32m      8\u001b[39m \u001b[38;5;66;03m# run gradient descent \u001b[39;00m\n\u001b[32m      9\u001b[39m start = time.time()\n\u001b[32m---> \u001b[39m\u001b[32m10\u001b[39m w_pred,b_pred,cost_iteration = \u001b[43mgradient_descent\u001b[49m\u001b[43m(\u001b[49m\u001b[43mX_train\u001b[49m\u001b[43m,\u001b[49m\u001b[43m \u001b[49m\u001b[43my_train\u001b[49m\u001b[43m,\u001b[49m\u001b[43m \u001b[49m\u001b[43mw_in\u001b[49m\u001b[43m,\u001b[49m\u001b[43m \u001b[49m\u001b[43mb_in\u001b[49m\u001b[43m,\u001b[49m\u001b[43m \u001b[49m\u001b[43mcost\u001b[49m\u001b[43m,\u001b[49m\u001b[43m \u001b[49m\u001b[43mgive_gradient\u001b[49m\u001b[43m,\u001b[49m\u001b[43mcost_per_eg\u001b[49m\u001b[43m,\u001b[49m\u001b[43m \u001b[49m\u001b[43malpha\u001b[49m\u001b[43m,\u001b[49m\u001b[43m \u001b[49m\u001b[43miters\u001b[49m\u001b[43m)\u001b[49m\n\u001b[32m     11\u001b[39m end = time.time()\n\u001b[32m     12\u001b[39m t = end-start\n",
      "\u001b[36mCell\u001b[39m\u001b[36m \u001b[39m\u001b[32mIn[7]\u001b[39m\u001b[32m, line 9\u001b[39m, in \u001b[36mgradient_descent\u001b[39m\u001b[34m(X, y, w_in, b_in, cost, give_gradient, cost_per_eg, alpha, iterations)\u001b[39m\n\u001b[32m      6\u001b[39m b = b_in\n\u001b[32m      7\u001b[39m \u001b[38;5;28;01mfor\u001b[39;00m i \u001b[38;5;129;01min\u001b[39;00m \u001b[38;5;28mrange\u001b[39m(iterations):\n\u001b[32m      8\u001b[39m     \u001b[38;5;66;03m# print(0)\u001b[39;00m\n\u001b[32m----> \u001b[39m\u001b[32m9\u001b[39m     dj_dw,dj_db = \u001b[43mgive_gradient\u001b[49m\u001b[43m(\u001b[49m\u001b[43mX\u001b[49m\u001b[43m,\u001b[49m\u001b[43m \u001b[49m\u001b[43my\u001b[49m\u001b[43m,\u001b[49m\u001b[43m \u001b[49m\u001b[43mw\u001b[49m\u001b[43m,\u001b[49m\u001b[43m \u001b[49m\u001b[43mb\u001b[49m\u001b[43m,\u001b[49m\u001b[43mcost_per_eg\u001b[49m\u001b[43m)\u001b[49m\n\u001b[32m     11\u001b[39m     b -= alpha * dj_db               \n\u001b[32m     12\u001b[39m     \u001b[38;5;28;01mfor\u001b[39;00m j \u001b[38;5;129;01min\u001b[39;00m \u001b[38;5;28mrange\u001b[39m(n):\n",
      "\u001b[36mCell\u001b[39m\u001b[36m \u001b[39m\u001b[32mIn[6]\u001b[39m\u001b[32m, line 11\u001b[39m, in \u001b[36mgive_gradient\u001b[39m\u001b[34m(X, y, w, b, cost_per_eg)\u001b[39m\n\u001b[32m      9\u001b[39m     err = cost_per_eg(X[i],w,b) - y[i]   \n\u001b[32m     10\u001b[39m     \u001b[38;5;28;01mfor\u001b[39;00m j \u001b[38;5;129;01min\u001b[39;00m \u001b[38;5;28mrange\u001b[39m(n):                         \n\u001b[32m---> \u001b[39m\u001b[32m11\u001b[39m         dj_dw[j] += err * X[i][j]/m   \n\u001b[32m     12\u001b[39m     dj_db += err/m                                                       \n\u001b[32m     14\u001b[39m \u001b[38;5;28;01mreturn\u001b[39;00m dj_dw,dj_db\n",
      "\u001b[31mKeyboardInterrupt\u001b[39m: "
     ]
    }
   ],
   "source": [
    "# initialize parameters\n",
    "m,n = len(X_train), len(X_train[0])\n",
    "w_in= [0]*n\n",
    "b_in = 0.0\n",
    "\n",
    "iters = 10000\n",
    "alpha = 0.7\n",
    "# run gradient descent \n",
    "start = time.time()\n",
    "w_pred,b_pred,cost_iteration = gradient_descent(X_train, y_train, w_in, b_in, cost, give_gradient,cost_per_eg, alpha, iters)\n",
    "end = time.time()\n",
    "t = end-start\n",
    "print(f\"b,w found by gradient descent: \")\n",
    "print(f\"b: {b_pred}\")\n",
    "print(f\"w: {w_pred}\")\n",
    "print(f\"time taken for 10000 iterations is {t}\")\n",
    "\n",
    "\n",
    "y_pred = predict_y(X_test, w_pred, b_pred)\n",
    "print(\"\\n\\n-------------------------------------------\\n\\n\")\n",
    "print(\"Mean absolute error (MAE): {0}\".format(mean_absolute_error(y_pred,y_test)))\n",
    "print(\"Root mean square error (RMSE): {0}\".format(root_mean_square(y_pred,y_test)))\n",
    "print(\"R-squared score (R^2 Score): {0}\".format(r_squared(y_pred,y_test)))"
   ]
  },
  {
   "cell_type": "code",
   "execution_count": null,
   "id": "6d60b31d",
   "metadata": {},
   "outputs": [
    {
     "name": "stdout",
     "output_type": "stream",
     "text": [
      "10000\n"
     ]
    },
    {
     "data": {
      "image/png": "[encoded data removed]",
      "text/plain": [
       "<Figure size 1000x500 with 2 Axes>"
      ]
     },
     "metadata": {},
     "output_type": "display_data"
    }
   ],
   "source": [
    "fig, axs = plt.subplots(1,2, figsize=(10,5))\n",
    "print(len(cost_iteration))\n",
    "axs[0].plot(cost_iteration[:100],c='r')\n",
    "axs[0].set_title(\"Cost v/s Iterations (START)\")\n",
    "axs[1].plot(9900 + np.arange(100),cost_iteration[9900:])\n",
    "axs[1].set_title(\"Cost v/s Iterations (END)\")\n",
    "plt.tight_layout()\n",
    "plt.show()"
   ]
  },
  {
   "cell_type": "markdown",
   "id": "0531fb25",
   "metadata": {},
   "source": [
    "## Numpy Implementation ##\n"
   ]
  },
  {
   "cell_type": "code",
   "execution_count": null,
   "id": "69a256c5",
   "metadata": {},
   "outputs": [],
   "source": [
    "#We will be using X_train_np, X_test_np, y_train, y_test\n",
    "y_train_np = np.array(y_train)\n",
    "y_test_np = np.array(y_test)\n",
    "X_train_np = np.array(X_train)\n",
    "X_test_np = np.array(X_test)\n",
    "#dimension of X_train_np and X_test_np = (m,n)\n",
    "#dimension of y_train_np and y_test_np = (m,)\n",
    "#dimension of w = (n,)\n",
    "\n",
    "def costnp(X,y,w,b):\n",
    "    m = X.shape[0]\n",
    "    pred = np.dot(X,w)+ b\n",
    "    err = pred - y\n",
    "    er = err**2\n",
    "    cost = np.sum(er)\n",
    "    cost /= (2*m)\n",
    "\n",
    "    return cost\n"
   ]
  },
  {
   "cell_type": "code",
   "execution_count": null,
   "id": "2cf96bf7",
   "metadata": {},
   "outputs": [],
   "source": [
    "#dimension of X_train_np and X_test_np = (m,n)\n",
    "#dimension of y_train_np and y_test_np = (m,)\n",
    "#dimension of w = (n,)\n",
    "\n",
    "def give_gradientnp(X, y, w, b): \n",
    "  \n",
    "    m,n = X.shape         #(number of examples, number of features)\n",
    "    dj_db = 0.0\n",
    "\n",
    "    pred = np.dot(X,w)+b\n",
    "    err = pred - y\n",
    "    total_error = np.sum(err)\n",
    "    dj_db = total_error/m\n",
    "    err= err.reshape(-1,1)\n",
    "    mat = err * X\n",
    "    dj_dw = np.sum(mat,axis=0)/m                                                   \n",
    "        \n",
    "    return dj_dw,dj_db\n",
    "#returns a 1d array of dj_dw with size (n,)\n"
   ]
  },
  {
   "cell_type": "code",
   "execution_count": null,
   "id": "4767e194",
   "metadata": {},
   "outputs": [],
   "source": [
    "#dimension of X_train_np and X_test_np = (m,n)\n",
    "#dimension of y_train_np and y_test_np = (m,)\n",
    "#dimension of w = (n,)\n",
    "#dimension of dj_dw = (n,)\n",
    "\n",
    "def gradient_descentnp(X, y, w_in, b_in, costnp, give_gradientnp, alpha, iterations):\n",
    "    \n",
    "    J_prev_np= []\n",
    "    m,n = X.shape\n",
    "    w = w_in\n",
    "    b=b_in\n",
    "    for i in range(iterations):\n",
    "        # print(0)\n",
    "        dj_dw,dj_db = give_gradientnp(X, y, w, b)\n",
    "\n",
    "        b -= alpha * dj_db               \n",
    "        w -= alpha * dj_dw\n",
    "        # print(1)\n",
    "        J_prev_np.append(costnp(X, y, w, b))\n",
    "\n",
    "        # Print cost every at intervals 10 times or as many iterations if < 10\n",
    "        # print(\"inside loop\")\n",
    "        # print(2)\n",
    "        if i% math.ceil(iterations / 10) == 0:\n",
    "            print(f\"Iteration {i:4d}: Cost {J_prev_np[-1]:8.2f}   \")\n",
    "            # print(f\"Iteration {i:4d}: dj_dw={dj_dw} dj_db={dj_db}   \")\n",
    "            # print(w)\n",
    "            # print(b)\n",
    "        \n",
    "        # print(\"inside loop\")\n",
    "        # print(3)\n",
    "    return w, b, J_prev_np #return final w,b and cost history for graphing"
   ]
  },
  {
   "cell_type": "code",
   "execution_count": null,
   "id": "086331a1",
   "metadata": {},
   "outputs": [],
   "source": [
    "def mean_absolute_error_np(y_pred,y_true):\n",
    "    return np.mean(np.abs(y_true-y_pred))\n",
    "\n",
    "def root_mean_square_np(y_pred, y_true):\n",
    "    return np.sqrt(np.mean((y_true - y_pred)**2))\n",
    "\n",
    "def r_squared_np(y_pred, y_true):\n",
    "    num = np.sum((y_true - y_pred) ** 2)\n",
    "    den = np.sum((y_true - np.mean(y_true)) ** 2)\n",
    "    return 1 - (num/den)\n",
    "\n",
    "def predict_y_np(X_test, w, b):\n",
    "    return np.dot(X_test,w)+b"
   ]
  },
  {
   "cell_type": "code",
   "execution_count": null,
   "id": "9b4b0d87",
   "metadata": {},
   "outputs": [
    {
     "name": "stdout",
     "output_type": "stream",
     "text": [
      "Iteration    0: Cost 4142613529.69   \n",
      "Iteration 1000: Cost 1770262884.06   \n",
      "Iteration 2000: Cost 1770251339.56   \n",
      "Iteration 3000: Cost 1770244068.82   \n",
      "Iteration 4000: Cost 1770239489.66   \n",
      "Iteration 5000: Cost 1770236605.69   \n",
      "Iteration 6000: Cost 1770234789.35   \n",
      "Iteration 7000: Cost 1770233645.41   \n",
      "Iteration 8000: Cost 1770232924.95   \n",
      "Iteration 9000: Cost 1770232471.21   \n",
      "b,w found by gradient descent: \n",
      "b: 187301.60138557787\n",
      "w: [-68066.40789193 -71692.3059791   10230.93245154  -3905.71779892\n",
      " -42967.43277482  49503.31245275  52540.76235801  15727.6909055\n",
      "   3189.9582402    5094.10345813   5411.1078139 ]\n",
      "time taken for 10000 iterations is 20.01555061340332\n",
      "\n",
      "\n",
      "-------------------------------------------\n",
      "\n",
      "\n",
      "Mean absolute error (MAE): 44106.23880261719\n",
      "Root mean square error (RMSE): 59178.56997211522\n",
      "R-squared score (R^2 Score): 0.6034490485300356\n"
     ]
    }
   ],
   "source": [
    "# initialize parameters\n",
    "m,n = X_train_np.shape\n",
    "w_i= np.zeros(n,dtype=np.float64)\n",
    "b_i = 0.0\n",
    "\n",
    "iters = 10000\n",
    "alpha = 0.7\n",
    "# run gradient descent \n",
    "start = time.time()\n",
    "w_pred_np,b_pred_np,cost_iteration_np = gradient_descentnp(X_train_np, y_train_np, w_i, b_i, costnp, give_gradientnp, alpha, iters)\n",
    "end = time.time()\n",
    "t = end-start\n",
    "print(f\"b,w found by gradient descent: \")\n",
    "print(f\"b: {b_pred_np}\")\n",
    "print(f\"w: {w_pred_np}\")\n",
    "print(f\"time taken for 10000 iterations is {t}\")\n",
    "\n",
    "\n",
    "y_pred_np = predict_y_np(X_test, w_pred_np, b_pred_np)\n",
    "print(\"\\n\\n-------------------------------------------\\n\\n\")\n",
    "print(\"Mean absolute error (MAE): {0}\".format(mean_absolute_error_np(y_pred_np,y_test)))\n",
    "print(\"Root mean square error (RMSE): {0}\".format(root_mean_square_np(y_pred_np,y_test)))\n",
    "print(\"R-squared score (R^2 Score): {0}\".format(r_squared_np(y_pred_np,y_test)))"
   ]
  },
  {
   "cell_type": "code",
   "execution_count": null,
   "id": "14c5ed1a",
   "metadata": {},
   "outputs": [
    {
     "data": {
      "image/png": "[encoded data removed]",
      "text/plain": [
       "<Figure size 1000x500 with 2 Axes>"
      ]
     },
     "metadata": {},
     "output_type": "display_data"
    }
   ],
   "source": [
    "fig, axs = plt.subplots(1,2, figsize=(10,5))\n",
    "\n",
    "axs[0].plot(cost_iteration_np[:50],c='r')\n",
    "axs[0].set_title(\"Cost v/s Iterations (START)\")\n",
    "axs[1].plot(9900 + np.arange(100),cost_iteration_np[9900:])\n",
    "axs[1].set_title(\"Cost v/s Iterations (END)\")\n",
    "plt.tight_layout()\n",
    "plt.show()"
   ]
  },
  {
   "cell_type": "markdown",
   "id": "ca56d341",
   "metadata": {},
   "source": [
    "## Scikit-Learn Implementation ##"
   ]
  },
  {
   "cell_type": "code",
   "execution_count": null,
   "id": "6b7972db",
   "metadata": {},
   "outputs": [
    {
     "name": "stdout",
     "output_type": "stream",
     "text": [
      "b: 187301.6013855779\n",
      "w: [-68066.99486269 -71693.47613005  10230.54007571  -3907.5842951\n",
      " -42968.57677776  49506.19737209  52540.46959716  16761.63907708\n",
      "   4174.78039015   5744.90630226   6106.4926391 ]\n",
      "\n",
      "\n",
      "-------------------------------------------------\n",
      "\n",
      "\n",
      "Mean absolute error (MAE): 44105.735652725714\n",
      "Root mean square error (RMSE): 59177.91096960171\n",
      "R-squared score (R^2 Score): 0.6034578803290744\n"
     ]
    }
   ],
   "source": [
    "from sklearn.metrics import mean_absolute_error, mean_squared_error, r2_score\n",
    "from sklearn.linear_model import LinearRegression\n",
    "model = LinearRegression()\n",
    "start = time.time()\n",
    "model.fit(X_train_np,y_train_np)\n",
    "end = time.time()\n",
    "t = end-start\n",
    "b_pred = model.intercept_\n",
    "w_pred = model.coef_\n",
    "print(f\"b: {b_pred}\")\n",
    "print(f\"w: {w_pred}\")\n",
    "y_pred_skl = model.predict(X_test)\n",
    "\n",
    "print(\"\\n\\n-------------------------------------------------\\n\\n\")\n",
    "print(\"Mean absolute error (MAE): {0}\".format(mean_absolute_error(y_test,y_pred_skl)))\n",
    "print(\"Root mean square error (RMSE): {0}\".format(np.sqrt(mean_squared_error(y_test,y_pred_skl))))\n",
    "print(\"R-squared score (R^2 Score): {0}\".format(r2_score(y_test,y_pred_skl)))"
   ]
  }
 ],
 "metadata": {
  "kernelspec": {
   "display_name": "ml",
   "language": "python",
   "name": "python3"
  },
  "language_info": {
   "codemirror_mode": {
    "name": "ipython",
    "version": 3
   },
   "file_extension": ".py",
   "mimetype": "text/x-python",
   "name": "python",
   "nbconvert_exporter": "python",
   "pygments_lexer": "ipython3",
   "version": "3.12.9"
  }
 },
 "nbformat": 4,
 "nbformat_minor": 5
}
